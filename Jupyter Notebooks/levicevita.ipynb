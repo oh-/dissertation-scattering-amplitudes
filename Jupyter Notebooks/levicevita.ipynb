{
 "cells": [
  {
   "cell_type": "code",
   "execution_count": 2,
   "metadata": {},
   "outputs": [
    {
     "name": "stdout",
     "output_type": "stream",
     "text": [
      "IPython console for SymPy 1.4 (Python 3.7.1-64-bit) (ground types: python)\n",
      "\n",
      "These commands were executed:\n",
      ">>> from __future__ import division\n",
      ">>> from sympy import *\n",
      ">>> x, y, z, t = symbols('x y z t')\n",
      ">>> k, m, n = symbols('k m n', integer=True)\n",
      ">>> f, g, h = symbols('f g h', cls=Function)\n",
      ">>> init_printing()\n",
      "\n",
      "Documentation can be found at https://docs.sympy.org/1.4/\n",
      "\n"
     ]
    }
   ],
   "source": [
    "from sympy import init_session\n",
    "init_session()"
   ]
  },
  {
   "cell_type": "code",
   "execution_count": null,
   "metadata": {},
   "outputs": [],
   "source": []
  },
  {
   "cell_type": "code",
   "execution_count": 20,
   "metadata": {},
   "outputs": [
    {
     "name": "stdout",
     "output_type": "stream",
     "text": [
      "1 0\n",
      "2 1\n",
      "3 2\n",
      "4 3\n"
     ]
    },
    {
     "data": {
      "image/png": "[encoded data removed]",
      "text/latex": [
       "$\\displaystyle 0$"
      ],
      "text/plain": [
       "0"
      ]
     },
     "execution_count": 20,
     "metadata": {},
     "output_type": "execute_result"
    }
   ],
   "source": [
    "from itertools import cycle\n",
    "LC = lambda i,j,k:(i-j)*(j-k)*(k-i)/2\n",
    "l1 = [1,1,0,1]\n",
    "l2 = [-1,0,1,1/2]\n",
    "\n",
    "l1 = symbols('alpha:4')\n",
    "l2 = symbols('beta:4')\n",
    "\n",
    "\n",
    "def LC_vec(l1, l2):\n",
    "    '''\n",
    "    Using the Levi-Cevita symbol to calculate the cross prodduct, but\n",
    "    extending to multi-dimensions (eg being able to calcualte for a 4-vector)\n",
    "    E_(a,b) * A(^a,_i) * A(^b,_j)  where:\n",
    "    {+ 1 for even permutations eg(1,2,3)\n",
    "    {- 1 for odd permutation   eg(2,1,3)\n",
    "    {  0 everything else\n",
    "    '''\n",
    "    assert len(l1) == len(l2)  # The length should be the same\n",
    "    count = len(l1)\n",
    "    # even permutations\n",
    "    # 123, 231, 312\n",
    "    even_list = [l1[i]*l2[-(count-1)+i] for i in range(len(l1))]  # Working\n",
    "    \n",
    "    # odd permutations\n",
    "    # 213, 213, 132\n",
    "    odd_list = [l1[i]*l2[-(count-1)+i] for i in range(len(l1))]\n",
    "    for i, j in zip(range(0,4), range(-1,3)):\n",
    "        i+=1\n",
    "        j+=1\n",
    "        print(i,j)\n",
    "    \n",
    "    # to the summation:\n",
    "    return sum(even_list) - sum(odd_list)\n",
    "\n",
    "\n",
    "LC_vec(l1,l2)\n"
   ]
  },
  {
   "cell_type": "code",
   "execution_count": null,
   "metadata": {},
   "outputs": [],
   "source": []
  }
 ],
 "metadata": {
  "kernelspec": {
   "display_name": "Python 3",
   "language": "python",
   "name": "python3"
  },
  "language_info": {
   "codemirror_mode": {
    "name": "ipython",
    "version": 3
   },
   "file_extension": ".py",
   "mimetype": "text/x-python",
   "name": "python",
   "nbconvert_exporter": "python",
   "pygments_lexer": "ipython3",
   "version": "3.7.1"
  }
 },
 "nbformat": 4,
 "nbformat_minor": 4
}
