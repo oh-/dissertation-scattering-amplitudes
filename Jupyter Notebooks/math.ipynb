{
 "cells": [
  {
   "cell_type": "code",
   "execution_count": 1,
   "metadata": {},
   "outputs": [
    {
     "name": "stdout",
     "output_type": "stream",
     "text": [
      "IPython console for SymPy 1.4 (Python 3.8.0-64-bit) (ground types: python)\n",
      "\n",
      "These commands were executed:\n",
      ">>> from __future__ import division\n",
      ">>> from sympy import *\n",
      ">>> x, y, z, t = symbols('x y z t')\n",
      ">>> k, m, n = symbols('k m n', integer=True)\n",
      ">>> f, g, h = symbols('f g h', cls=Function)\n",
      ">>> init_printing()\n",
      "\n",
      "Documentation can be found at https://docs.sympy.org/1.4/\n",
      "\n"
     ]
    }
   ],
   "source": [
    "from sympy import init_session\n",
    "init_session()"
   ]
  },
  {
   "cell_type": "code",
   "execution_count": 17,
   "metadata": {},
   "outputs": [],
   "source": [
    "x11, x12, x21, x22 = symbols('x_{11} x_{12} x_{21} x_{22}')\n",
    "n11, n12, n21, n22 = symbols('\\eta_{11} \\eta_{12} \\eta_{21} \\eta_{22}')\n",
    "X = Matrix([[x11, x12], [x21, x22]])\n",
    "N = Matrix([[n11, n12], [n21, n22]])"
   ]
  },
  {
   "cell_type": "code",
   "execution_count": 24,
   "metadata": {},
   "outputs": [],
   "source": [
    "LHS = X@N@X.T\n",
    "RHS = Matrix([[1, 0], [0, -1]])"
   ]
  },
  {
   "cell_type": "code",
   "execution_count": 25,
   "metadata": {},
   "outputs": [
    {
     "data": {
      "text/latex": [
       "$\\displaystyle \\left[\\begin{matrix}x_{11} \\left(\\eta_{11} x_{11} + \\eta_{21} x_{12}\\right) + x_{12} \\left(\\eta_{12} x_{11} + \\eta_{22} x_{12}\\right) & x_{21} \\left(\\eta_{11} x_{11} + \\eta_{21} x_{12}\\right) + x_{22} \\left(\\eta_{12} x_{11} + \\eta_{22} x_{12}\\right)\\\\x_{11} \\left(\\eta_{11} x_{21} + \\eta_{21} x_{22}\\right) + x_{12} \\left(\\eta_{12} x_{21} + \\eta_{22} x_{22}\\right) & x_{21} \\left(\\eta_{11} x_{21} + \\eta_{21} x_{22}\\right) + x_{22} \\left(\\eta_{12} x_{21} + \\eta_{22} x_{22}\\right)\\end{matrix}\\right]$"
      ],
      "text/plain": [
       "⎡x_{11}⋅(\\eta_{11}⋅x_{11} + \\eta_{21}⋅x_{12}) + x_{12}⋅(\\eta_{12}⋅x_{11} + \\et\n",
       "⎢                                                                             \n",
       "⎣x_{11}⋅(\\eta_{11}⋅x_{21} + \\eta_{21}⋅x_{22}) + x_{12}⋅(\\eta_{12}⋅x_{21} + \\et\n",
       "\n",
       "a_{22}⋅x_{12})  x_{21}⋅(\\eta_{11}⋅x_{11} + \\eta_{21}⋅x_{12}) + x_{22}⋅(\\eta_{1\n",
       "                                                                              \n",
       "a_{22}⋅x_{22})  x_{21}⋅(\\eta_{11}⋅x_{21} + \\eta_{21}⋅x_{22}) + x_{22}⋅(\\eta_{1\n",
       "\n",
       "2}⋅x_{11} + \\eta_{22}⋅x_{12})⎤\n",
       "                             ⎥\n",
       "2}⋅x_{21} + \\eta_{22}⋅x_{22})⎦"
      ]
     },
     "execution_count": 25,
     "metadata": {},
     "output_type": "execute_result"
    }
   ],
   "source": [
    "LHS"
   ]
  },
  {
   "cell_type": "code",
   "execution_count": 33,
   "metadata": {},
   "outputs": [
    {
     "data": {
      "text/latex": [
       "$\\displaystyle \\left[ \\left( x_{11} \\left(\\eta_{11} x_{11} + \\eta_{21} x_{12}\\right) + x_{12} \\left(\\eta_{12} x_{11} + \\eta_{22} x_{12}\\right) - 1, \\  1\\right), \\  \\left( x_{11}, \\  - \\frac{\\eta_{21} x_{12} x_{21}}{\\eta_{11} x_{21} + \\eta_{12} x_{22}} - \\frac{\\eta_{22} x_{12} x_{22}}{\\eta_{11} x_{21} + \\eta_{12} x_{22}}\\right), \\  \\left( x_{11}, \\  - \\frac{\\eta_{12} x_{12} x_{21}}{\\eta_{11} x_{21} + \\eta_{21} x_{22}} - \\frac{\\eta_{22} x_{12} x_{22}}{\\eta_{11} x_{21} + \\eta_{21} x_{22}}\\right), \\  \\left( 0, \\  1\\right)\\right]$"
      ],
      "text/plain": [
       "⎡                                                                             \n",
       "⎢(x_{11}⋅(\\eta_{11}⋅x_{11} + \\eta_{21}⋅x_{12}) + x_{12}⋅(\\eta_{12}⋅x_{11} + \\e\n",
       "⎣                                                                             \n",
       "\n",
       "                         ⎛                \\eta_{21}⋅x_{12}⋅x_{21}             \n",
       "ta_{22}⋅x_{12}) - 1, 1), ⎜x_{11}, - ─────────────────────────────────── - ────\n",
       "                         ⎝          \\eta_{11}⋅x_{21} + \\eta_{12}⋅x_{22}   \\eta\n",
       "\n",
       "  \\eta_{22}⋅x_{12}⋅x_{22}      ⎞  ⎛                \\eta_{12}⋅x_{12}⋅x_{21}    \n",
       "───────────────────────────────⎟, ⎜x_{11}, - ─────────────────────────────────\n",
       "_{11}⋅x_{21} + \\eta_{12}⋅x_{22}⎠  ⎝          \\eta_{11}⋅x_{21} + \\eta_{21}⋅x_{2\n",
       "\n",
       "           \\eta_{22}⋅x_{12}⋅x_{22}      ⎞        ⎤\n",
       "── - ───────────────────────────────────⎟, (0, 1)⎥\n",
       "2}   \\eta_{11}⋅x_{21} + \\eta_{21}⋅x_{22}⎠        ⎦"
      ]
     },
     "execution_count": 33,
     "metadata": {},
     "output_type": "execute_result"
    }
   ],
   "source": [
    "solutions = []\n",
    "for lhs, rhs in zip(LHS, RHS):\n",
    "    solutions.append( solve_linear(lhs, rhs, symbols=[x11]))\n",
    "\n",
    "solutions"
   ]
  },
  {
   "cell_type": "code",
   "execution_count": 38,
   "metadata": {},
   "outputs": [
    {
     "data": {
      "text/latex": [
       "$\\displaystyle \\left( x, \\  4\\right)$"
      ],
      "text/plain": [
       "(x, 4)"
      ]
     },
     "execution_count": 38,
     "metadata": {},
     "output_type": "execute_result"
    }
   ],
   "source": [
    "solve_linear(lhs=(x**1-1),rhs= 3, symbols=[x])"
   ]
  },
  {
   "cell_type": "code",
   "execution_count": 46,
   "metadata": {},
   "outputs": [
    {
     "data": {
      "text/latex": [
       "$\\displaystyle \\left(2 k x + i n\\right) e^{k x^{2} + i n x}$"
      ],
      "text/plain": [
       "                  2        \n",
       "               k⋅x  + ⅈ⋅n⋅x\n",
       "(2⋅k⋅x + ⅈ⋅n)⋅ℯ            "
      ]
     },
     "execution_count": 46,
     "metadata": {},
     "output_type": "execute_result"
    }
   ],
   "source": [
    "diff(exp(k*x**2 + n*x*I), x)"
   ]
  },
  {
   "cell_type": "code",
   "execution_count": 66,
   "metadata": {},
   "outputs": [
    {
     "data": {
      "text/latex": [
       "$\\displaystyle \\begin{cases} i A L \\sqrt{\\frac{1}{L^{2}}} & \\text{for}\\: 2 \\left|{\\arg{\\left(L \\right)}}\\right| \\leq \\frac{\\pi}{2} \\wedge 2 \\left|{\\arg{\\left(L \\right)}}\\right| < \\frac{\\pi}{2} \\\\\\int\\limits_{-\\infty}^{\\infty} \\frac{\\sqrt{2} \\left(i A - \\frac{2 x}{L^{2}}\\right) \\sqrt{\\frac{1}{L^{2}}} e^{- \\frac{2 x^{2}}{L^{2}}}}{\\sqrt{\\pi}}\\, dx & \\text{otherwise} \\end{cases}$"
      ],
      "text/plain": [
       "⎧                      ____                                                 \n",
       "⎪                     ╱ 1                                 π                π\n",
       "⎪           ⅈ⋅A⋅L⋅   ╱  ──               for 2⋅│arg(L)│ ≤ ─ ∧ 2⋅│arg(L)│ < ─\n",
       "⎪                   ╱    2                                2                2\n",
       "⎪                 ╲╱    L                                                   \n",
       "⎪                                                                           \n",
       "⎪∞                                                                          \n",
       "⎪⌠                                                                          \n",
       "⎪⎮                                2                                         \n",
       "⎪⎮                            -2⋅x                                          \n",
       "⎨⎮                            ──────                                        \n",
       "⎪⎮                      ____     2                                          \n",
       "⎪⎮     ⎛      2⋅x⎞     ╱ 1      L                                           \n",
       "⎪⎮  √2⋅⎜ⅈ⋅A - ───⎟⋅   ╱  ── ⋅ℯ                                              \n",
       "⎪⎮     ⎜        2⎟   ╱    2                                                 \n",
       "⎪⎮     ⎝       L ⎠ ╲╱    L                                                  \n",
       "⎪⎮  ──────────────────────────────── dx               otherwise             \n",
       "⎪⎮                 √π                                                       \n",
       "⎪⌡                                                                          \n",
       "⎪-∞                                                                         \n",
       "⎩                                                                           "
      ]
     },
     "execution_count": 66,
     "metadata": {},
     "output_type": "execute_result"
    }
   ],
   "source": [
    "L, A = symbols('L A')\n",
    "C = sqrt(2/(pi*L**2))\n",
    "B1 = exp(-2*x**2/L**2)\n",
    "B2 = I*A-2*x/L**2\n",
    "B = B1 * B2\n",
    "C*B\n",
    "integrate(C*B, (x, -oo, oo))"
   ]
  },
  {
   "cell_type": "code",
   "execution_count": 72,
   "metadata": {},
   "outputs": [
    {
     "data": {
      "text/latex": [
       "$\\displaystyle \\left[\\begin{matrix}\\gamma t - \\gamma v x\\\\- \\gamma t v + \\gamma x\\end{matrix}\\right]$"
      ],
      "text/plain": [
       "⎡\\gamma⋅t - \\gamma⋅v⋅x ⎤\n",
       "⎢                      ⎥\n",
       "⎣-\\gamma⋅t⋅v + \\gamma⋅x⎦"
      ]
     },
     "execution_count": 72,
     "metadata": {},
     "output_type": "execute_result"
    }
   ],
   "source": [
    "gamma, v = symbols('\\gamma v')\n",
    "L = Matrix([[gamma, -gamma*v],[-gamma*v, gamma]])\n",
    "X = Matrix([[t],[x]])\n",
    "\n",
    "X_ = L@X\n",
    "X_\n",
    "t_, x_ = X_\n",
    "X_"
   ]
  },
  {
   "cell_type": "code",
   "execution_count": 85,
   "metadata": {},
   "outputs": [],
   "source": [
    "S2 = -t_**2 + x_**2"
   ]
  },
  {
   "cell_type": "code",
   "execution_count": 86,
   "metadata": {},
   "outputs": [
    {
     "data": {
      "text/latex": [
       "$\\displaystyle - \\left(\\gamma t - \\gamma v x\\right)^{2} + \\left(- \\gamma t v + \\gamma x\\right)^{2}$"
      ],
      "text/plain": [
       "                         2                           2\n",
       "- (\\gamma⋅t - \\gamma⋅v⋅x)  + (-\\gamma⋅t⋅v + \\gamma⋅x) "
      ]
     },
     "execution_count": 86,
     "metadata": {},
     "output_type": "execute_result"
    }
   ],
   "source": [
    "S2"
   ]
  },
  {
   "cell_type": "code",
   "execution_count": 87,
   "metadata": {},
   "outputs": [
    {
     "data": {
      "text/latex": [
       "$\\displaystyle \\gamma^{2} \\left(t^{2} v^{2} - t^{2} - v^{2} x^{2} + x^{2}\\right)$"
      ],
      "text/plain": [
       "      2 ⎛ 2  2    2    2  2    2⎞\n",
       "\\gamma ⋅⎝t ⋅v  - t  - v ⋅x  + x ⎠"
      ]
     },
     "execution_count": 87,
     "metadata": {},
     "output_type": "execute_result"
    }
   ],
   "source": [
    "S2.expand().simplify()"
   ]
  },
  {
   "cell_type": "code",
   "execution_count": 10,
   "metadata": {},
   "outputs": [
    {
     "data": {
      "text/latex": [
       "$\\displaystyle \\left[\\begin{matrix}1 & 0 & 0 & 0\\\\0 & 1 & 0 & 0\\\\0 & 0 & 1 & 0\\\\0 & 0 & 0 & 1\\end{matrix}\\right]$"
      ],
      "text/plain": [
       "⎡1  0  0  0⎤\n",
       "⎢          ⎥\n",
       "⎢0  1  0  0⎥\n",
       "⎢          ⎥\n",
       "⎢0  0  1  0⎥\n",
       "⎢          ⎥\n",
       "⎣0  0  0  1⎦"
      ]
     },
     "execution_count": 10,
     "metadata": {},
     "output_type": "execute_result"
    }
   ],
   "source": [
    "# eta = Matrix([[-1, 0],[0,1]])\n",
    "\n",
    "eta = Matrix([[-1, 0, 0, 0],[0, 1, 0, 0], [0, 0, 1, 0], [0, 0, 0, 1]])\n",
    "\n",
    "eta@eta"
   ]
  },
  {
   "cell_type": "code",
   "execution_count": 12,
   "metadata": {},
   "outputs": [
    {
     "data": {
      "text/latex": [
       "$\\displaystyle \\left[ \\left( E_{0}, \\  B_{0}\\right), \\  \\left( E_{1}, \\  B_{1}\\right), \\  \\left( E_{2}, \\  B_{2}\\right), \\  \\left( E_{3}, \\  B_{3}\\right)\\right]$"
      ],
      "text/plain": [
       "[(E₀, B₀), (E₁, B₁), (E₂, B₂), (E₃, B₃)]"
      ]
     },
     "execution_count": 12,
     "metadata": {},
     "output_type": "execute_result"
    }
   ],
   "source": [
    "EB = [symbols('E_{} B_{}'.format(_, _)) for _ in range(4)]\n",
    "# EB\n",
    "F= Matrix()"
   ]
  },
  {
   "cell_type": "code",
   "execution_count": 14,
   "metadata": {},
   "outputs": [
    {
     "data": {
      "text/latex": [
       "$\\displaystyle C$"
      ],
      "text/plain": [
       "C"
      ]
     },
     "execution_count": 14,
     "metadata": {},
     "output_type": "execute_result"
    }
   ],
   "source": [
    "MatrixSymbol('C', 4,4)"
   ]
  },
  {
   "cell_type": "code",
   "execution_count": 38,
   "metadata": {},
   "outputs": [
    {
     "data": {
      "text/latex": [
       "$\\displaystyle \\left[\\begin{matrix}0 & - E_{1} & - E_{2} & - E_{3}\\\\E_{1} & 0 & B_{3} & - B_{2}\\\\E_{2} & - B_{3} & 0 & B_{1}\\\\E_{3} & B_{2} & - B_{1} & 0\\end{matrix}\\right]$"
      ],
      "text/plain": [
       "⎡0   -E₁  -E₂  -E₃⎤\n",
       "⎢                 ⎥\n",
       "⎢E₁   0   B₃   -B₂⎥\n",
       "⎢                 ⎥\n",
       "⎢E₂  -B₃   0   B₁ ⎥\n",
       "⎢                 ⎥\n",
       "⎣E₃  B₂   -B₁   0 ⎦"
      ]
     },
     "execution_count": 38,
     "metadata": {},
     "output_type": "execute_result"
    }
   ],
   "source": [
    "\n",
    "E1, E2, E3 = symbols('E_1, E_2, E_3')\n",
    "B1, B2, B3 = symbols('B_1, B_2, B_3')\n",
    "F = Matrix([\n",
    "    [0, -E1, -E2, -E3],\n",
    "    [E1, 0, B3, -B2],\n",
    "    [E2, -B3, 0, B1],\n",
    "    [E3, B2, -B1, 0]\n",
    "])\n",
    "F"
   ]
  },
  {
   "cell_type": "code",
   "execution_count": 39,
   "metadata": {},
   "outputs": [
    {
     "data": {
      "text/latex": [
       "$\\displaystyle \\left[\\begin{matrix}0 & E_{1} & E_{2} & E_{3}\\\\E_{1} & 0 & B_{3} & - B_{2}\\\\E_{2} & - B_{3} & 0 & B_{1}\\\\E_{3} & B_{2} & - B_{1} & 0\\end{matrix}\\right]$"
      ],
      "text/plain": [
       "⎡0   E₁   E₂   E₃ ⎤\n",
       "⎢                 ⎥\n",
       "⎢E₁   0   B₃   -B₂⎥\n",
       "⎢                 ⎥\n",
       "⎢E₂  -B₃   0   B₁ ⎥\n",
       "⎢                 ⎥\n",
       "⎣E₃  B₂   -B₁   0 ⎦"
      ]
     },
     "execution_count": 39,
     "metadata": {},
     "output_type": "execute_result"
    }
   ],
   "source": [
    "eta@F"
   ]
  },
  {
   "cell_type": "code",
   "execution_count": 40,
   "metadata": {},
   "outputs": [
    {
     "data": {
      "text/latex": [
       "$\\displaystyle \\left[\\begin{matrix}0 & E_{1} & E_{2} & E_{3}\\\\- E_{1} & 0 & B_{3} & - B_{2}\\\\- E_{2} & - B_{3} & 0 & B_{1}\\\\- E_{3} & B_{2} & - B_{1} & 0\\end{matrix}\\right]$"
      ],
      "text/plain": [
       "⎡ 0   E₁   E₂   E₃ ⎤\n",
       "⎢                  ⎥\n",
       "⎢-E₁   0   B₃   -B₂⎥\n",
       "⎢                  ⎥\n",
       "⎢-E₂  -B₃   0   B₁ ⎥\n",
       "⎢                  ⎥\n",
       "⎣-E₃  B₂   -B₁   0 ⎦"
      ]
     },
     "execution_count": 40,
     "metadata": {},
     "output_type": "execute_result"
    }
   ],
   "source": [
    "eta@F@eta"
   ]
  },
  {
   "cell_type": "code",
   "execution_count": 44,
   "metadata": {},
   "outputs": [
    {
     "data": {
      "text/latex": [
       "$\\displaystyle - 2 B_{1}^{2} - 2 B_{2}^{2} - 2 B_{3}^{2} - 2 E_{1}^{2} - 2 E_{2}^{2} - 2 E_{3}^{2}$"
      ],
      "text/plain": [
       "      2       2       2       2       2       2\n",
       "- 2⋅B₁  - 2⋅B₂  - 2⋅B₃  - 2⋅E₁  - 2⋅E₂  - 2⋅E₃ "
      ]
     },
     "execution_count": 44,
     "metadata": {},
     "output_type": "execute_result"
    }
   ],
   "source": [
    "A = 0\n",
    "for i in F:\n",
    "    A += i*-i\n",
    "simplify(A)"
   ]
  },
  {
   "cell_type": "code",
   "execution_count": 8,
   "metadata": {},
   "outputs": [],
   "source": [
    "a, p, h = symbols('a phat hbar')"
   ]
  },
  {
   "cell_type": "code",
   "execution_count": 14,
   "metadata": {},
   "outputs": [
    {
     "data": {
      "image/png": "[encoded data removed]",
      "text/latex": [
       "$\\displaystyle e^{a - \\hat{p}}$"
      ],
      "text/plain": [
       " a - p̂\n",
       "ℯ      "
      ]
     },
     "execution_count": 14,
     "metadata": {},
     "output_type": "execute_result"
    }
   ],
   "source": [
    "(exp(a)/exp(p)).simplify()"
   ]
  },
  {
   "cell_type": "code",
   "execution_count": 20,
   "metadata": {},
   "outputs": [
    {
     "data": {
      "image/png": "[encoded data removed]",
      "text/latex": [
       "$\\displaystyle e^{a \\hat{p}}$"
      ],
      "text/plain": [
       " a⋅p̂\n",
       "ℯ    "
      ]
     },
     "execution_count": 20,
     "metadata": {},
     "output_type": "execute_result"
    }
   ],
   "source": [
    "exp(a*p).separate()"
   ]
  },
  {
   "cell_type": "code",
   "execution_count": null,
   "metadata": {},
   "outputs": [],
   "source": []
  }
 ],
 "metadata": {
  "kernelspec": {
   "display_name": "Python 3",
   "language": "python",
   "name": "python3"
  },
  "language_info": {
   "codemirror_mode": {
    "name": "ipython",
    "version": 3
   },
   "file_extension": ".py",
   "mimetype": "text/x-python",
   "name": "python",
   "nbconvert_exporter": "python",
   "pygments_lexer": "ipython3",
   "version": "3.8.0"
  }
 },
 "nbformat": 4,
 "nbformat_minor": 4
}
